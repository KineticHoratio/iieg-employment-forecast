{
 "cells": [
  {
   "cell_type": "markdown",
   "metadata": {},
   "source": [
    "# Time Series Analysis\n",
    "\n",
    "By: **Rodrigo Hernández Mota**"
   ]
  },
  {
   "cell_type": "markdown",
   "metadata": {},
   "source": [
    "Basic time series analysis to determine the number of lags to use in the regression model."
   ]
  },
  {
   "cell_type": "code",
   "execution_count": 13,
   "metadata": {
    "collapsed": false
   },
   "outputs": [],
   "source": [
    "%matplotlib inline\n",
    "\n",
    "import os\n",
    "import numpy as np\n",
    "import pandas as pd\n",
    "import matplotlib.pyplot as plt\n",
    "\n",
    "from scipy import stats\n",
    "from conf import settings\n",
    "from util.data_preparation import *\n",
    "from statsmodels.tsa.stattools import pacf\n",
    "from statsmodels.graphics.tsaplots import plot_acf, plot_pacf\n",
    "from sklearn.preprocessing import LabelEncoder, OneHotEncoder"
   ]
  },
  {
   "cell_type": "markdown",
   "metadata": {},
   "source": [
    "## Read and prepare data"
   ]
  },
  {
   "cell_type": "code",
   "execution_count": 68,
   "metadata": {
    "collapsed": false
   },
   "outputs": [
    {
     "data": {
      "text/html": [
       "<div>\n",
       "<style>\n",
       "    .dataframe thead tr:only-child th {\n",
       "        text-align: right;\n",
       "    }\n",
       "\n",
       "    .dataframe thead th {\n",
       "        text-align: left;\n",
       "    }\n",
       "\n",
       "    .dataframe tbody tr th {\n",
       "        vertical-align: top;\n",
       "    }\n",
       "</style>\n",
       "<table border=\"1\" class=\"dataframe\">\n",
       "  <thead>\n",
       "    <tr style=\"text-align: right;\">\n",
       "      <th></th>\n",
       "      <th>economic_division</th>\n",
       "      <th>gender</th>\n",
       "      <th>age_range</th>\n",
       "      <th>value</th>\n",
       "      <th>year</th>\n",
       "      <th>month</th>\n",
       "      <th>time</th>\n",
       "    </tr>\n",
       "  </thead>\n",
       "  <tbody>\n",
       "    <tr>\n",
       "      <th>0</th>\n",
       "      <td>Agricultura, ganadería, silvicultura, pesca y ...</td>\n",
       "      <td>Hombres</td>\n",
       "      <td>De 15 a 19 años.</td>\n",
       "      <td>2057.0</td>\n",
       "      <td>2006.0</td>\n",
       "      <td>1</td>\n",
       "      <td>2006.0</td>\n",
       "    </tr>\n",
       "    <tr>\n",
       "      <th>1</th>\n",
       "      <td>Agricultura, ganadería, silvicultura, pesca y ...</td>\n",
       "      <td>Hombres</td>\n",
       "      <td>De 20 a 24 años.</td>\n",
       "      <td>4472.0</td>\n",
       "      <td>2006.0</td>\n",
       "      <td>1</td>\n",
       "      <td>2006.0</td>\n",
       "    </tr>\n",
       "    <tr>\n",
       "      <th>2</th>\n",
       "      <td>Agricultura, ganadería, silvicultura, pesca y ...</td>\n",
       "      <td>Hombres</td>\n",
       "      <td>De 25 a 29 años.</td>\n",
       "      <td>4840.0</td>\n",
       "      <td>2006.0</td>\n",
       "      <td>1</td>\n",
       "      <td>2006.0</td>\n",
       "    </tr>\n",
       "    <tr>\n",
       "      <th>3</th>\n",
       "      <td>Agricultura, ganadería, silvicultura, pesca y ...</td>\n",
       "      <td>Hombres</td>\n",
       "      <td>De 30 a 34 años.</td>\n",
       "      <td>5476.0</td>\n",
       "      <td>2006.0</td>\n",
       "      <td>1</td>\n",
       "      <td>2006.0</td>\n",
       "    </tr>\n",
       "    <tr>\n",
       "      <th>4</th>\n",
       "      <td>Agricultura, ganadería, silvicultura, pesca y ...</td>\n",
       "      <td>Hombres</td>\n",
       "      <td>De 35 a 39 años.</td>\n",
       "      <td>4933.0</td>\n",
       "      <td>2006.0</td>\n",
       "      <td>1</td>\n",
       "      <td>2006.0</td>\n",
       "    </tr>\n",
       "  </tbody>\n",
       "</table>\n",
       "</div>"
      ],
      "text/plain": [
       "                                   economic_division   gender  \\\n",
       "0  Agricultura, ganadería, silvicultura, pesca y ...  Hombres   \n",
       "1  Agricultura, ganadería, silvicultura, pesca y ...  Hombres   \n",
       "2  Agricultura, ganadería, silvicultura, pesca y ...  Hombres   \n",
       "3  Agricultura, ganadería, silvicultura, pesca y ...  Hombres   \n",
       "4  Agricultura, ganadería, silvicultura, pesca y ...  Hombres   \n",
       "\n",
       "          age_range   value    year  month    time  \n",
       "0  De 15 a 19 años.  2057.0  2006.0      1  2006.0  \n",
       "1  De 20 a 24 años.  4472.0  2006.0      1  2006.0  \n",
       "2  De 25 a 29 años.  4840.0  2006.0      1  2006.0  \n",
       "3  De 30 a 34 años.  5476.0  2006.0      1  2006.0  \n",
       "4  De 35 a 39 años.  4933.0  2006.0      1  2006.0  "
      ]
     },
     "execution_count": 68,
     "metadata": {},
     "output_type": "execute_result"
    }
   ],
   "source": [
    "raw_df = pd.read_pickle(settings.DataFilesConf.FileNames.insured_employment_pickle)\n",
    "value_cols = [col for col in raw_df.columns if has_month(col)]\n",
    "id_cols = [col for col in raw_df.columns if not has_month(col)]\n",
    "df = pd.melt(raw_df, id_vars=id_cols, value_vars=value_cols)\n",
    "df[\"year\"], df[\"month\"] = df.variable.str.split(\"_\").str\n",
    "df[\"month\"] = df[\"month\"].replace(MONTHS)\n",
    "df[\"year\"] = df[\"year\"].values.astype(np.float)\n",
    "del df[\"variable\"]\n",
    "df = df.query(\"value != 'N/D'\").reset_index(drop=True)\n",
    "df[\"value\"] = df.value.values.astype(np.float)\n",
    "df[\"time\"] = (df.year + (df.month-1) / 12).values\n",
    "\n",
    "df.head()"
   ]
  },
  {
   "cell_type": "markdown",
   "metadata": {},
   "source": [
    "The dataset contains the possibility to make uso of several segregaton levels (i.e. economic_division, gender and age_rage). For each combination of the categories of the segregation variables we have one time serie data (from 2006 to 2017 by month).\n",
    "\n",
    "The segregation levels are the following: "
   ]
  },
  {
   "cell_type": "code",
   "execution_count": 7,
   "metadata": {
    "collapsed": false
   },
   "outputs": [
    {
     "name": "stdout",
     "output_type": "stream",
     "text": [
      "\n",
      "-----------\n",
      "Variable: economic_division\n",
      "Values: \n",
      "['Agricultura, ganadería, silvicultura, pesca y caza' 'Comercio'\n",
      " 'Industria de la construcción'\n",
      " 'Industria eléctrica, captación y suministro de agua potable'\n",
      " 'Industrias de transformación' 'Industrias extractivas' 'Servicios'\n",
      " 'Transportes y comunicaciones']\n",
      "\n",
      "-----------\n",
      "Variable: age_range\n",
      "Values: \n",
      "['De 15 a 19 años.' 'De 20 a 24 años.' 'De 25 a 29 años.'\n",
      " 'De 30 a 34 años.' 'De 35 a 39 años.' 'De 40 a 44 años.'\n",
      " 'De 45 a 49 años.' 'De 50 a 54 años.' 'De 55 a 59 años.'\n",
      " 'De 60 a 64 años.' 'De 65 a 69 años.' 'De 70 a 74 años.'\n",
      " 'De 75 ó más años' 'Menor a 15 años.']\n",
      "\n",
      "-----------\n",
      "Variable: gender\n",
      "Values: \n",
      "['Hombres' 'Mujeres']\n"
     ]
    }
   ],
   "source": [
    "cols = [\"economic_division\", \"age_range\", \"gender\"]\n",
    "\n",
    "for col in cols:\n",
    "    print(\"\\n-----------\")\n",
    "    print(\"Variable: {}\".format(col))\n",
    "    print(\"Values: \\n{}\".format(df[col].unique()))"
   ]
  },
  {
   "cell_type": "markdown",
   "metadata": {},
   "source": [
    "This is one example of time series given the max. segregation level:"
   ]
  },
  {
   "cell_type": "code",
   "execution_count": 32,
   "metadata": {
    "collapsed": false
   },
   "outputs": [
    {
     "data": {
      "image/png": "[encoded data removed]",
      "text/plain": [
       "<matplotlib.figure.Figure at 0x7f0449cbde10>"
      ]
     },
     "metadata": {},
     "output_type": "display_data"
    },
    {
     "data": {
      "text/html": [
       "<div>\n",
       "<style>\n",
       "    .dataframe thead tr:only-child th {\n",
       "        text-align: right;\n",
       "    }\n",
       "\n",
       "    .dataframe thead th {\n",
       "        text-align: left;\n",
       "    }\n",
       "\n",
       "    .dataframe tbody tr th {\n",
       "        vertical-align: top;\n",
       "    }\n",
       "</style>\n",
       "<table border=\"1\" class=\"dataframe\">\n",
       "  <thead>\n",
       "    <tr style=\"text-align: right;\">\n",
       "      <th></th>\n",
       "      <th>economic_division</th>\n",
       "      <th>gender</th>\n",
       "      <th>age_range</th>\n",
       "      <th>value</th>\n",
       "      <th>year</th>\n",
       "      <th>month</th>\n",
       "      <th>time</th>\n",
       "    </tr>\n",
       "  </thead>\n",
       "  <tbody>\n",
       "    <tr>\n",
       "      <th>174</th>\n",
       "      <td>Servicios</td>\n",
       "      <td>Mujeres</td>\n",
       "      <td>De 20 a 24 años.</td>\n",
       "      <td>20908.0</td>\n",
       "      <td>2006.0</td>\n",
       "      <td>1</td>\n",
       "      <td>2006.083333</td>\n",
       "    </tr>\n",
       "    <tr>\n",
       "      <th>388</th>\n",
       "      <td>Servicios</td>\n",
       "      <td>Mujeres</td>\n",
       "      <td>De 20 a 24 años.</td>\n",
       "      <td>21362.0</td>\n",
       "      <td>2006.0</td>\n",
       "      <td>2</td>\n",
       "      <td>2006.166667</td>\n",
       "    </tr>\n",
       "    <tr>\n",
       "      <th>602</th>\n",
       "      <td>Servicios</td>\n",
       "      <td>Mujeres</td>\n",
       "      <td>De 20 a 24 años.</td>\n",
       "      <td>22139.0</td>\n",
       "      <td>2006.0</td>\n",
       "      <td>3</td>\n",
       "      <td>2006.250000</td>\n",
       "    </tr>\n",
       "    <tr>\n",
       "      <th>817</th>\n",
       "      <td>Servicios</td>\n",
       "      <td>Mujeres</td>\n",
       "      <td>De 20 a 24 años.</td>\n",
       "      <td>22397.0</td>\n",
       "      <td>2006.0</td>\n",
       "      <td>4</td>\n",
       "      <td>2006.333333</td>\n",
       "    </tr>\n",
       "    <tr>\n",
       "      <th>1033</th>\n",
       "      <td>Servicios</td>\n",
       "      <td>Mujeres</td>\n",
       "      <td>De 20 a 24 años.</td>\n",
       "      <td>22712.0</td>\n",
       "      <td>2006.0</td>\n",
       "      <td>5</td>\n",
       "      <td>2006.416667</td>\n",
       "    </tr>\n",
       "  </tbody>\n",
       "</table>\n",
       "</div>"
      ],
      "text/plain": [
       "     economic_division   gender         age_range    value    year  month  \\\n",
       "174          Servicios  Mujeres  De 20 a 24 años.  20908.0  2006.0      1   \n",
       "388          Servicios  Mujeres  De 20 a 24 años.  21362.0  2006.0      2   \n",
       "602          Servicios  Mujeres  De 20 a 24 años.  22139.0  2006.0      3   \n",
       "817          Servicios  Mujeres  De 20 a 24 años.  22397.0  2006.0      4   \n",
       "1033         Servicios  Mujeres  De 20 a 24 años.  22712.0  2006.0      5   \n",
       "\n",
       "             time  \n",
       "174   2006.083333  \n",
       "388   2006.166667  \n",
       "602   2006.250000  \n",
       "817   2006.333333  \n",
       "1033  2006.416667  "
      ]
     },
     "execution_count": 32,
     "metadata": {},
     "output_type": "execute_result"
    }
   ],
   "source": [
    "sub_df = df.query(\"economic_division == 'Servicios' & age_range == 'De 20 a 24 años.' & gender == 'Mujeres'\")\n",
    "\n",
    "# Plot\n",
    "sub_df.plot(x=\"time\", y=\"value\")\n",
    "plt.title(\"Insured Employment of women \\nwhose age range is between 20 and 24 years\\nand working on services\")\n",
    "plt.xlabel(\"Time\")\n",
    "plt.ylabel(\"Number of employees\")\n",
    "plt.show()\n",
    "\n",
    "# DF\n",
    "sub_df.head()"
   ]
  },
  {
   "cell_type": "markdown",
   "metadata": {},
   "source": [
    "## Time Series Lags"
   ]
  },
  {
   "cell_type": "markdown",
   "metadata": {},
   "source": [
    "To get the number of lags to use in a general regression model we have to consider the possible (viable) lags\n",
    "for each time series resulting of the combinations of the seggregation level. \n",
    "\n",
    "As an example, these are the viable lags for the previous sub_df shown before:"
   ]
  },
  {
   "cell_type": "code",
   "execution_count": 30,
   "metadata": {
    "collapsed": true
   },
   "outputs": [],
   "source": [
    "def optimize_lags(time_series_vector, plot=False, max_lags=None):\n",
    "    max_lags = max_lags if max_lags else MAX_LAGS\n",
    "\n",
    "    def is_significant(value, threshold):\n",
    "        return (value <= -threshold) or (value >= threshold)\n",
    "\n",
    "    def confident_lags(pacf_vector, threshold):\n",
    "        compare_zip = zip(map(lambda x: is_significant(x, threshold), pacf_vector),\n",
    "                          range(len(pacf_vect)))\n",
    "        return [val[1] for val in compare_zip if val[0]]\n",
    "\n",
    "    significance_threshold = stats.norm.ppf(1 - ALPHA) / np.sqrt(len(time_series_vector))\n",
    "    if plot:\n",
    "        plot_acf(time_series_vector, lags=max_lags)\n",
    "        plot_pacf(time_series_vector, lags=max_lags)\n",
    "    pacf_vect = pacf(time_series_vector, nlags=max_lags)\n",
    "    lags = confident_lags(pacf_vect, significance_threshold)\n",
    "    return lags"
   ]
  },
  {
   "cell_type": "code",
   "execution_count": 31,
   "metadata": {
    "collapsed": false
   },
   "outputs": [
    {
     "name": "stdout",
     "output_type": "stream",
     "text": [
      "\n",
      "Viable lags for sub_df: [0, 1, 2, 10, 11, 12, 13, 18]\n"
     ]
    },
    {
     "data": {
      "image/png": "[encoded data removed]",
      "text/plain": [
       "<matplotlib.figure.Figure at 0x7f0449d03dd8>"
      ]
     },
     "metadata": {},
     "output_type": "display_data"
    },
    {
     "data": {
      "image/png": "[encoded data removed]",
      "text/plain": [
       "<matplotlib.figure.Figure at 0x7f04683a8a90>"
      ]
     },
     "metadata": {},
     "output_type": "display_data"
    }
   ],
   "source": [
    "viable_lags = optimize_lags(sub_df.value, plot=True, max_lags=20)\n",
    "\n",
    "print(\"\\nViable lags for sub_df: {}\".format(viable_lags))"
   ]
  },
  {
   "cell_type": "markdown",
   "metadata": {},
   "source": [
    "The autocorrelation functions shows the correlation pf a given lag to the originl time series. The partial autocorrelation shows a similar analysis but discounting the effects of the in-between lags. \n",
    "\n",
    "In this case, we base our lag-selection based on the partial autocorrelation and using a selection criteria based on the significance level: stats.norm.ppf(1 - ALPHA) / np.sqrt(len(time_series_vector))\n",
    "\n",
    "This significance test assumes normality. "
   ]
  },
  {
   "cell_type": "markdown",
   "metadata": {},
   "source": [
    "Generating the viable lags for any combination of the segregation level we have: "
   ]
  },
  {
   "cell_type": "code",
   "execution_count": 70,
   "metadata": {
    "collapsed": true
   },
   "outputs": [],
   "source": [
    "def suggested_lags(df, cols, frequency=0.05, plot=False):\n",
    "\n",
    "    def get_by_recursive_combinations(df, cols, n_lags=[]):\n",
    "        unique_vals = df[cols[0]].unique()\n",
    "        for val in unique_vals:\n",
    "            sub_df = df.query(\"{} == '{}'\".format(cols[0], val))\n",
    "            if sub_df.value.std() < 1:\n",
    "                continue\n",
    "            n_lags += (optimize_lags(sub_df.value) if len(cols)==1 else get_by_recursive_combinations(\n",
    "                sub_df, cols[1:], n_lags=[]))\n",
    "        return list(filter(lambda x: x > 0, n_lags))\n",
    "\n",
    "    n_lags = get_by_recursive_combinations(df, cols, n_lags=[])\n",
    "    n, unique_lags = len(n_lags), np.unique(n_lags)\n",
    "    freq_lags = [len(list(filter(lambda x: x == u, n_lags))) / n for u in unique_lags]\n",
    "    lag_df = pd.DataFrame({\"lag\": unique_lags, \"freq\": freq_lags})\n",
    "    if plot:\n",
    "        lag_df.plot.bar(x=\"lag\", y=\"freq\")\n",
    "        plt.ylabel(\"Frequency\")\n",
    "        plt.title(\"Suggested lags frequency\")\n",
    "    suggested = lag_df.query(\"freq > {}\".format(frequency)).lag.values\n",
    "    return [val for val in suggested if val < MAX_LAGS]"
   ]
  },
  {
   "cell_type": "code",
   "execution_count": 71,
   "metadata": {
    "collapsed": false
   },
   "outputs": [
    {
     "name": "stdout",
     "output_type": "stream",
     "text": [
      "Suggested lags where at least 5% of all combinations coincide and < MAX_LAGS: [1, 2, 3, 6, 7]\n"
     ]
    },
    {
     "data": {
      "image/png": "[encoded data removed]",
      "text/plain": [
       "<matplotlib.figure.Figure at 0x7f046827af98>"
      ]
     },
     "metadata": {},
     "output_type": "display_data"
    }
   ],
   "source": [
    "lags = suggested_lags(df, cols, frequency=0.05, plot=True)\n",
    "\n",
    "print(\"Suggested lags where at least 5% of all combinations coincide and < MAX_LAGS: {}\".format(lags))"
   ]
  },
  {
   "cell_type": "markdown",
   "metadata": {},
   "source": [
    "## Add Lags to General DF"
   ]
  },
  {
   "cell_type": "markdown",
   "metadata": {},
   "source": [
    "The following functions adds the lags to the general df:"
   ]
  },
  {
   "cell_type": "code",
   "execution_count": 72,
   "metadata": {
    "collapsed": true
   },
   "outputs": [],
   "source": [
    "def add_lags(sub_df, lags):\n",
    "    original_index = sub_df.index\n",
    "    response = sub_df.reset_index(drop=True)[[\"value\"]]\n",
    "    for lag in lags:\n",
    "        temp = response[[\"value\"]].iloc[:-lag]\n",
    "        temp.index = temp.index + lag\n",
    "        response[\"t-{}\".format(lag)] = temp\n",
    "    response.index = original_index\n",
    "    del response[\"value\"]\n",
    "    return pd.concat([sub_df, response], axis=1)\n",
    "\n",
    "def add_lags_recursive(df, cols, lags, result_df=pd.DataFrame([])):\n",
    "    unique_vals = df[cols[0]].unique()\n",
    "    for val in unique_vals:\n",
    "        sub_df = df.query(\"{} == '{}'\".format(cols[0], val))\n",
    "        result_df = pd.concat([result_df, add_lags(sub_df, lags)], axis=0) \\\n",
    "            if len(cols) == 1 else add_lags_recursive(sub_df, cols[1:], lags, result_df=result_df)\n",
    "    return result_df\n"
   ]
  },
  {
   "cell_type": "code",
   "execution_count": 73,
   "metadata": {
    "collapsed": true
   },
   "outputs": [],
   "source": [
    "df = add_lags_recursive(df, cols, lags)"
   ]
  },
  {
   "cell_type": "markdown",
   "metadata": {},
   "source": [
    "Now with a simple query we can see how at the max segregation level we have the corresponding lags for the response variable time series."
   ]
  },
  {
   "cell_type": "code",
   "execution_count": 74,
   "metadata": {
    "collapsed": false,
    "scrolled": false
   },
   "outputs": [
    {
     "data": {
      "text/html": [
       "<div>\n",
       "<style>\n",
       "    .dataframe thead tr:only-child th {\n",
       "        text-align: right;\n",
       "    }\n",
       "\n",
       "    .dataframe thead th {\n",
       "        text-align: left;\n",
       "    }\n",
       "\n",
       "    .dataframe tbody tr th {\n",
       "        vertical-align: top;\n",
       "    }\n",
       "</style>\n",
       "<table border=\"1\" class=\"dataframe\">\n",
       "  <thead>\n",
       "    <tr style=\"text-align: right;\">\n",
       "      <th></th>\n",
       "      <th>economic_division</th>\n",
       "      <th>gender</th>\n",
       "      <th>age_range</th>\n",
       "      <th>value</th>\n",
       "      <th>year</th>\n",
       "      <th>month</th>\n",
       "      <th>time</th>\n",
       "      <th>t-1</th>\n",
       "      <th>t-2</th>\n",
       "      <th>t-3</th>\n",
       "      <th>t-6</th>\n",
       "      <th>t-7</th>\n",
       "    </tr>\n",
       "  </thead>\n",
       "  <tbody>\n",
       "    <tr>\n",
       "      <th>174</th>\n",
       "      <td>Servicios</td>\n",
       "      <td>Mujeres</td>\n",
       "      <td>De 20 a 24 años.</td>\n",
       "      <td>20908.0</td>\n",
       "      <td>2006.0</td>\n",
       "      <td>1</td>\n",
       "      <td>2006.000000</td>\n",
       "      <td>NaN</td>\n",
       "      <td>NaN</td>\n",
       "      <td>NaN</td>\n",
       "      <td>NaN</td>\n",
       "      <td>NaN</td>\n",
       "    </tr>\n",
       "    <tr>\n",
       "      <th>388</th>\n",
       "      <td>Servicios</td>\n",
       "      <td>Mujeres</td>\n",
       "      <td>De 20 a 24 años.</td>\n",
       "      <td>21362.0</td>\n",
       "      <td>2006.0</td>\n",
       "      <td>2</td>\n",
       "      <td>2006.083333</td>\n",
       "      <td>20908.0</td>\n",
       "      <td>NaN</td>\n",
       "      <td>NaN</td>\n",
       "      <td>NaN</td>\n",
       "      <td>NaN</td>\n",
       "    </tr>\n",
       "    <tr>\n",
       "      <th>602</th>\n",
       "      <td>Servicios</td>\n",
       "      <td>Mujeres</td>\n",
       "      <td>De 20 a 24 años.</td>\n",
       "      <td>22139.0</td>\n",
       "      <td>2006.0</td>\n",
       "      <td>3</td>\n",
       "      <td>2006.166667</td>\n",
       "      <td>21362.0</td>\n",
       "      <td>20908.0</td>\n",
       "      <td>NaN</td>\n",
       "      <td>NaN</td>\n",
       "      <td>NaN</td>\n",
       "    </tr>\n",
       "    <tr>\n",
       "      <th>817</th>\n",
       "      <td>Servicios</td>\n",
       "      <td>Mujeres</td>\n",
       "      <td>De 20 a 24 años.</td>\n",
       "      <td>22397.0</td>\n",
       "      <td>2006.0</td>\n",
       "      <td>4</td>\n",
       "      <td>2006.250000</td>\n",
       "      <td>22139.0</td>\n",
       "      <td>21362.0</td>\n",
       "      <td>20908.0</td>\n",
       "      <td>NaN</td>\n",
       "      <td>NaN</td>\n",
       "    </tr>\n",
       "    <tr>\n",
       "      <th>1033</th>\n",
       "      <td>Servicios</td>\n",
       "      <td>Mujeres</td>\n",
       "      <td>De 20 a 24 años.</td>\n",
       "      <td>22712.0</td>\n",
       "      <td>2006.0</td>\n",
       "      <td>5</td>\n",
       "      <td>2006.333333</td>\n",
       "      <td>22397.0</td>\n",
       "      <td>22139.0</td>\n",
       "      <td>21362.0</td>\n",
       "      <td>NaN</td>\n",
       "      <td>NaN</td>\n",
       "    </tr>\n",
       "    <tr>\n",
       "      <th>1249</th>\n",
       "      <td>Servicios</td>\n",
       "      <td>Mujeres</td>\n",
       "      <td>De 20 a 24 años.</td>\n",
       "      <td>23508.0</td>\n",
       "      <td>2006.0</td>\n",
       "      <td>6</td>\n",
       "      <td>2006.416667</td>\n",
       "      <td>22712.0</td>\n",
       "      <td>22397.0</td>\n",
       "      <td>22139.0</td>\n",
       "      <td>NaN</td>\n",
       "      <td>NaN</td>\n",
       "    </tr>\n",
       "    <tr>\n",
       "      <th>1464</th>\n",
       "      <td>Servicios</td>\n",
       "      <td>Mujeres</td>\n",
       "      <td>De 20 a 24 años.</td>\n",
       "      <td>23562.0</td>\n",
       "      <td>2006.0</td>\n",
       "      <td>7</td>\n",
       "      <td>2006.500000</td>\n",
       "      <td>23508.0</td>\n",
       "      <td>22712.0</td>\n",
       "      <td>22397.0</td>\n",
       "      <td>20908.0</td>\n",
       "      <td>NaN</td>\n",
       "    </tr>\n",
       "    <tr>\n",
       "      <th>1679</th>\n",
       "      <td>Servicios</td>\n",
       "      <td>Mujeres</td>\n",
       "      <td>De 20 a 24 años.</td>\n",
       "      <td>23987.0</td>\n",
       "      <td>2006.0</td>\n",
       "      <td>8</td>\n",
       "      <td>2006.583333</td>\n",
       "      <td>23562.0</td>\n",
       "      <td>23508.0</td>\n",
       "      <td>22712.0</td>\n",
       "      <td>21362.0</td>\n",
       "      <td>20908.0</td>\n",
       "    </tr>\n",
       "    <tr>\n",
       "      <th>1895</th>\n",
       "      <td>Servicios</td>\n",
       "      <td>Mujeres</td>\n",
       "      <td>De 20 a 24 años.</td>\n",
       "      <td>24836.0</td>\n",
       "      <td>2006.0</td>\n",
       "      <td>9</td>\n",
       "      <td>2006.666667</td>\n",
       "      <td>23987.0</td>\n",
       "      <td>23562.0</td>\n",
       "      <td>23508.0</td>\n",
       "      <td>22139.0</td>\n",
       "      <td>21362.0</td>\n",
       "    </tr>\n",
       "    <tr>\n",
       "      <th>2111</th>\n",
       "      <td>Servicios</td>\n",
       "      <td>Mujeres</td>\n",
       "      <td>De 20 a 24 años.</td>\n",
       "      <td>24989.0</td>\n",
       "      <td>2006.0</td>\n",
       "      <td>10</td>\n",
       "      <td>2006.750000</td>\n",
       "      <td>24836.0</td>\n",
       "      <td>23987.0</td>\n",
       "      <td>23562.0</td>\n",
       "      <td>22397.0</td>\n",
       "      <td>22139.0</td>\n",
       "    </tr>\n",
       "    <tr>\n",
       "      <th>2327</th>\n",
       "      <td>Servicios</td>\n",
       "      <td>Mujeres</td>\n",
       "      <td>De 20 a 24 años.</td>\n",
       "      <td>25608.0</td>\n",
       "      <td>2006.0</td>\n",
       "      <td>11</td>\n",
       "      <td>2006.833333</td>\n",
       "      <td>24989.0</td>\n",
       "      <td>24836.0</td>\n",
       "      <td>23987.0</td>\n",
       "      <td>22712.0</td>\n",
       "      <td>22397.0</td>\n",
       "    </tr>\n",
       "    <tr>\n",
       "      <th>2543</th>\n",
       "      <td>Servicios</td>\n",
       "      <td>Mujeres</td>\n",
       "      <td>De 20 a 24 años.</td>\n",
       "      <td>25437.0</td>\n",
       "      <td>2006.0</td>\n",
       "      <td>12</td>\n",
       "      <td>2006.916667</td>\n",
       "      <td>25608.0</td>\n",
       "      <td>24989.0</td>\n",
       "      <td>24836.0</td>\n",
       "      <td>23508.0</td>\n",
       "      <td>22712.0</td>\n",
       "    </tr>\n",
       "    <tr>\n",
       "      <th>2756</th>\n",
       "      <td>Servicios</td>\n",
       "      <td>Mujeres</td>\n",
       "      <td>De 20 a 24 años.</td>\n",
       "      <td>21839.0</td>\n",
       "      <td>2007.0</td>\n",
       "      <td>1</td>\n",
       "      <td>2007.000000</td>\n",
       "      <td>25437.0</td>\n",
       "      <td>25608.0</td>\n",
       "      <td>24989.0</td>\n",
       "      <td>23562.0</td>\n",
       "      <td>23508.0</td>\n",
       "    </tr>\n",
       "    <tr>\n",
       "      <th>2969</th>\n",
       "      <td>Servicios</td>\n",
       "      <td>Mujeres</td>\n",
       "      <td>De 20 a 24 años.</td>\n",
       "      <td>22226.0</td>\n",
       "      <td>2007.0</td>\n",
       "      <td>2</td>\n",
       "      <td>2007.083333</td>\n",
       "      <td>21839.0</td>\n",
       "      <td>25437.0</td>\n",
       "      <td>25608.0</td>\n",
       "      <td>23987.0</td>\n",
       "      <td>23562.0</td>\n",
       "    </tr>\n",
       "    <tr>\n",
       "      <th>3182</th>\n",
       "      <td>Servicios</td>\n",
       "      <td>Mujeres</td>\n",
       "      <td>De 20 a 24 años.</td>\n",
       "      <td>23106.0</td>\n",
       "      <td>2007.0</td>\n",
       "      <td>3</td>\n",
       "      <td>2007.166667</td>\n",
       "      <td>22226.0</td>\n",
       "      <td>21839.0</td>\n",
       "      <td>25437.0</td>\n",
       "      <td>24836.0</td>\n",
       "      <td>23987.0</td>\n",
       "    </tr>\n",
       "  </tbody>\n",
       "</table>\n",
       "</div>"
      ],
      "text/plain": [
       "     economic_division   gender         age_range    value    year  month  \\\n",
       "174          Servicios  Mujeres  De 20 a 24 años.  20908.0  2006.0      1   \n",
       "388          Servicios  Mujeres  De 20 a 24 años.  21362.0  2006.0      2   \n",
       "602          Servicios  Mujeres  De 20 a 24 años.  22139.0  2006.0      3   \n",
       "817          Servicios  Mujeres  De 20 a 24 años.  22397.0  2006.0      4   \n",
       "1033         Servicios  Mujeres  De 20 a 24 años.  22712.0  2006.0      5   \n",
       "1249         Servicios  Mujeres  De 20 a 24 años.  23508.0  2006.0      6   \n",
       "1464         Servicios  Mujeres  De 20 a 24 años.  23562.0  2006.0      7   \n",
       "1679         Servicios  Mujeres  De 20 a 24 años.  23987.0  2006.0      8   \n",
       "1895         Servicios  Mujeres  De 20 a 24 años.  24836.0  2006.0      9   \n",
       "2111         Servicios  Mujeres  De 20 a 24 años.  24989.0  2006.0     10   \n",
       "2327         Servicios  Mujeres  De 20 a 24 años.  25608.0  2006.0     11   \n",
       "2543         Servicios  Mujeres  De 20 a 24 años.  25437.0  2006.0     12   \n",
       "2756         Servicios  Mujeres  De 20 a 24 años.  21839.0  2007.0      1   \n",
       "2969         Servicios  Mujeres  De 20 a 24 años.  22226.0  2007.0      2   \n",
       "3182         Servicios  Mujeres  De 20 a 24 años.  23106.0  2007.0      3   \n",
       "\n",
       "             time      t-1      t-2      t-3      t-6      t-7  \n",
       "174   2006.000000      NaN      NaN      NaN      NaN      NaN  \n",
       "388   2006.083333  20908.0      NaN      NaN      NaN      NaN  \n",
       "602   2006.166667  21362.0  20908.0      NaN      NaN      NaN  \n",
       "817   2006.250000  22139.0  21362.0  20908.0      NaN      NaN  \n",
       "1033  2006.333333  22397.0  22139.0  21362.0      NaN      NaN  \n",
       "1249  2006.416667  22712.0  22397.0  22139.0      NaN      NaN  \n",
       "1464  2006.500000  23508.0  22712.0  22397.0  20908.0      NaN  \n",
       "1679  2006.583333  23562.0  23508.0  22712.0  21362.0  20908.0  \n",
       "1895  2006.666667  23987.0  23562.0  23508.0  22139.0  21362.0  \n",
       "2111  2006.750000  24836.0  23987.0  23562.0  22397.0  22139.0  \n",
       "2327  2006.833333  24989.0  24836.0  23987.0  22712.0  22397.0  \n",
       "2543  2006.916667  25608.0  24989.0  24836.0  23508.0  22712.0  \n",
       "2756  2007.000000  25437.0  25608.0  24989.0  23562.0  23508.0  \n",
       "2969  2007.083333  21839.0  25437.0  25608.0  23987.0  23562.0  \n",
       "3182  2007.166667  22226.0  21839.0  25437.0  24836.0  23987.0  "
      ]
     },
     "execution_count": 74,
     "metadata": {},
     "output_type": "execute_result"
    }
   ],
   "source": [
    "df.query(\"economic_division == 'Servicios' & age_range == 'De 20 a 24 años.' & gender == 'Mujeres'\").head(15)"
   ]
  },
  {
   "cell_type": "markdown",
   "metadata": {},
   "source": [
    "As a final step we sort the index and drop NaN rows."
   ]
  },
  {
   "cell_type": "code",
   "execution_count": 75,
   "metadata": {
    "collapsed": true
   },
   "outputs": [],
   "source": [
    "df = df.sort_index().dropna()"
   ]
  },
  {
   "cell_type": "markdown",
   "metadata": {},
   "source": [
    "Now we separate into the datastet for the model and temporal validation. "
   ]
  },
  {
   "cell_type": "code",
   "execution_count": 76,
   "metadata": {
    "collapsed": true
   },
   "outputs": [],
   "source": [
    "temporal_validation = df.query(\"time >= 2017\").sort_values(\"time\").reset_index(drop=True)\n",
    "df = df.query(\"time < 2017\").sort_values(\"time\").reset_index(drop=True)"
   ]
  },
  {
   "cell_type": "code",
   "execution_count": 77,
   "metadata": {
    "collapsed": true
   },
   "outputs": [],
   "source": [
    "del df[\"time\"]\n",
    "del temporal_validation[\"time\"]"
   ]
  },
  {
   "cell_type": "markdown",
   "metadata": {},
   "source": [
    "## Temporal Validation"
   ]
  },
  {
   "cell_type": "markdown",
   "metadata": {},
   "source": [
    "The year 2017 is used as a temporal validation for the model. "
   ]
  },
  {
   "cell_type": "code",
   "execution_count": 85,
   "metadata": {
    "collapsed": false
   },
   "outputs": [
    {
     "name": "stdout",
     "output_type": "stream",
     "text": [
      "\n",
      "Available data: (1720, 11)\n"
     ]
    },
    {
     "data": {
      "text/html": [
       "<div>\n",
       "<style>\n",
       "    .dataframe thead tr:only-child th {\n",
       "        text-align: right;\n",
       "    }\n",
       "\n",
       "    .dataframe thead th {\n",
       "        text-align: left;\n",
       "    }\n",
       "\n",
       "    .dataframe tbody tr th {\n",
       "        vertical-align: top;\n",
       "    }\n",
       "</style>\n",
       "<table border=\"1\" class=\"dataframe\">\n",
       "  <thead>\n",
       "    <tr style=\"text-align: right;\">\n",
       "      <th></th>\n",
       "      <th>economic_division</th>\n",
       "      <th>gender</th>\n",
       "      <th>age_range</th>\n",
       "      <th>value</th>\n",
       "      <th>year</th>\n",
       "      <th>month</th>\n",
       "      <th>t-1</th>\n",
       "      <th>t-2</th>\n",
       "      <th>t-3</th>\n",
       "      <th>t-6</th>\n",
       "      <th>t-7</th>\n",
       "    </tr>\n",
       "  </thead>\n",
       "  <tbody>\n",
       "    <tr>\n",
       "      <th>0</th>\n",
       "      <td>Agricultura, ganadería, silvicultura, pesca y ...</td>\n",
       "      <td>Hombres</td>\n",
       "      <td>De 15 a 19 años.</td>\n",
       "      <td>3175.0</td>\n",
       "      <td>2017.0</td>\n",
       "      <td>1</td>\n",
       "      <td>3079.0</td>\n",
       "      <td>2995.0</td>\n",
       "      <td>2882.0</td>\n",
       "      <td>2502.0</td>\n",
       "      <td>2577.0</td>\n",
       "    </tr>\n",
       "    <tr>\n",
       "      <th>1</th>\n",
       "      <td>Industrias extractivas</td>\n",
       "      <td>Hombres</td>\n",
       "      <td>De 20 a 24 años.</td>\n",
       "      <td>283.0</td>\n",
       "      <td>2017.0</td>\n",
       "      <td>1</td>\n",
       "      <td>297.0</td>\n",
       "      <td>341.0</td>\n",
       "      <td>349.0</td>\n",
       "      <td>340.0</td>\n",
       "      <td>343.0</td>\n",
       "    </tr>\n",
       "    <tr>\n",
       "      <th>2</th>\n",
       "      <td>Industrias extractivas</td>\n",
       "      <td>Hombres</td>\n",
       "      <td>De 25 a 29 años.</td>\n",
       "      <td>458.0</td>\n",
       "      <td>2017.0</td>\n",
       "      <td>1</td>\n",
       "      <td>488.0</td>\n",
       "      <td>537.0</td>\n",
       "      <td>536.0</td>\n",
       "      <td>513.0</td>\n",
       "      <td>499.0</td>\n",
       "    </tr>\n",
       "    <tr>\n",
       "      <th>3</th>\n",
       "      <td>Industrias extractivas</td>\n",
       "      <td>Hombres</td>\n",
       "      <td>De 30 a 34 años.</td>\n",
       "      <td>406.0</td>\n",
       "      <td>2017.0</td>\n",
       "      <td>1</td>\n",
       "      <td>406.0</td>\n",
       "      <td>453.0</td>\n",
       "      <td>464.0</td>\n",
       "      <td>466.0</td>\n",
       "      <td>470.0</td>\n",
       "    </tr>\n",
       "    <tr>\n",
       "      <th>4</th>\n",
       "      <td>Industrias extractivas</td>\n",
       "      <td>Hombres</td>\n",
       "      <td>De 35 a 39 años.</td>\n",
       "      <td>389.0</td>\n",
       "      <td>2017.0</td>\n",
       "      <td>1</td>\n",
       "      <td>409.0</td>\n",
       "      <td>429.0</td>\n",
       "      <td>427.0</td>\n",
       "      <td>429.0</td>\n",
       "      <td>424.0</td>\n",
       "    </tr>\n",
       "    <tr>\n",
       "      <th>5</th>\n",
       "      <td>Industrias extractivas</td>\n",
       "      <td>Hombres</td>\n",
       "      <td>De 40 a 44 años.</td>\n",
       "      <td>351.0</td>\n",
       "      <td>2017.0</td>\n",
       "      <td>1</td>\n",
       "      <td>360.0</td>\n",
       "      <td>400.0</td>\n",
       "      <td>406.0</td>\n",
       "      <td>400.0</td>\n",
       "      <td>406.0</td>\n",
       "    </tr>\n",
       "    <tr>\n",
       "      <th>6</th>\n",
       "      <td>Industrias extractivas</td>\n",
       "      <td>Hombres</td>\n",
       "      <td>De 45 a 49 años.</td>\n",
       "      <td>258.0</td>\n",
       "      <td>2017.0</td>\n",
       "      <td>1</td>\n",
       "      <td>252.0</td>\n",
       "      <td>257.0</td>\n",
       "      <td>263.0</td>\n",
       "      <td>264.0</td>\n",
       "      <td>269.0</td>\n",
       "    </tr>\n",
       "    <tr>\n",
       "      <th>7</th>\n",
       "      <td>Industrias extractivas</td>\n",
       "      <td>Hombres</td>\n",
       "      <td>De 50 a 54 años.</td>\n",
       "      <td>209.0</td>\n",
       "      <td>2017.0</td>\n",
       "      <td>1</td>\n",
       "      <td>212.0</td>\n",
       "      <td>233.0</td>\n",
       "      <td>240.0</td>\n",
       "      <td>242.0</td>\n",
       "      <td>237.0</td>\n",
       "    </tr>\n",
       "    <tr>\n",
       "      <th>8</th>\n",
       "      <td>Industrias extractivas</td>\n",
       "      <td>Hombres</td>\n",
       "      <td>De 55 a 59 años.</td>\n",
       "      <td>154.0</td>\n",
       "      <td>2017.0</td>\n",
       "      <td>1</td>\n",
       "      <td>144.0</td>\n",
       "      <td>148.0</td>\n",
       "      <td>155.0</td>\n",
       "      <td>142.0</td>\n",
       "      <td>144.0</td>\n",
       "    </tr>\n",
       "    <tr>\n",
       "      <th>9</th>\n",
       "      <td>Industrias extractivas</td>\n",
       "      <td>Hombres</td>\n",
       "      <td>De 60 a 64 años.</td>\n",
       "      <td>68.0</td>\n",
       "      <td>2017.0</td>\n",
       "      <td>1</td>\n",
       "      <td>64.0</td>\n",
       "      <td>66.0</td>\n",
       "      <td>64.0</td>\n",
       "      <td>64.0</td>\n",
       "      <td>66.0</td>\n",
       "    </tr>\n",
       "  </tbody>\n",
       "</table>\n",
       "</div>"
      ],
      "text/plain": [
       "                                   economic_division   gender  \\\n",
       "0  Agricultura, ganadería, silvicultura, pesca y ...  Hombres   \n",
       "1                             Industrias extractivas  Hombres   \n",
       "2                             Industrias extractivas  Hombres   \n",
       "3                             Industrias extractivas  Hombres   \n",
       "4                             Industrias extractivas  Hombres   \n",
       "5                             Industrias extractivas  Hombres   \n",
       "6                             Industrias extractivas  Hombres   \n",
       "7                             Industrias extractivas  Hombres   \n",
       "8                             Industrias extractivas  Hombres   \n",
       "9                             Industrias extractivas  Hombres   \n",
       "\n",
       "          age_range   value    year  month     t-1     t-2     t-3     t-6  \\\n",
       "0  De 15 a 19 años.  3175.0  2017.0      1  3079.0  2995.0  2882.0  2502.0   \n",
       "1  De 20 a 24 años.   283.0  2017.0      1   297.0   341.0   349.0   340.0   \n",
       "2  De 25 a 29 años.   458.0  2017.0      1   488.0   537.0   536.0   513.0   \n",
       "3  De 30 a 34 años.   406.0  2017.0      1   406.0   453.0   464.0   466.0   \n",
       "4  De 35 a 39 años.   389.0  2017.0      1   409.0   429.0   427.0   429.0   \n",
       "5  De 40 a 44 años.   351.0  2017.0      1   360.0   400.0   406.0   400.0   \n",
       "6  De 45 a 49 años.   258.0  2017.0      1   252.0   257.0   263.0   264.0   \n",
       "7  De 50 a 54 años.   209.0  2017.0      1   212.0   233.0   240.0   242.0   \n",
       "8  De 55 a 59 años.   154.0  2017.0      1   144.0   148.0   155.0   142.0   \n",
       "9  De 60 a 64 años.    68.0  2017.0      1    64.0    66.0    64.0    64.0   \n",
       "\n",
       "      t-7  \n",
       "0  2577.0  \n",
       "1   343.0  \n",
       "2   499.0  \n",
       "3   470.0  \n",
       "4   424.0  \n",
       "5   406.0  \n",
       "6   269.0  \n",
       "7   237.0  \n",
       "8   144.0  \n",
       "9    66.0  "
      ]
     },
     "execution_count": 85,
     "metadata": {},
     "output_type": "execute_result"
    }
   ],
   "source": [
    "print(\"\\nAvailable data: {}\".format(temporal_validation.shape))\n",
    "temporal_validation.head(10)"
   ]
  },
  {
   "cell_type": "code",
   "execution_count": 84,
   "metadata": {
    "collapsed": false
   },
   "outputs": [
    {
     "data": {
      "image/png": "[encoded data removed]",
      "text/plain": [
       "<matplotlib.figure.Figure at 0x7f0449eb5b38>"
      ]
     },
     "metadata": {},
     "output_type": "display_data"
    }
   ],
   "source": [
    "temporal_validation.groupby(\"month\").sum().value.plot(figsize=(10, 6))\n",
    "plt.title(\"Insured Employment 2017\")\n",
    "plt.ylabel(\"Number of employees\")\n",
    "plt.show()"
   ]
  },
  {
   "cell_type": "code",
   "execution_count": null,
   "metadata": {
    "collapsed": true
   },
   "outputs": [],
   "source": []
  }
 ],
 "metadata": {
  "kernelspec": {
   "display_name": "Python 3",
   "language": "python",
   "name": "python3"
  },
  "language_info": {
   "codemirror_mode": {
    "name": "ipython",
    "version": 3
   },
   "file_extension": ".py",
   "mimetype": "text/x-python",
   "name": "python",
   "nbconvert_exporter": "python",
   "pygments_lexer": "ipython3",
   "version": "3.6.1"
  }
 },
 "nbformat": 4,
 "nbformat_minor": 2
}
